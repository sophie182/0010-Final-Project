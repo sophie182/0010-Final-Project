{
 "cells": [
  {
   "cell_type": "code",
   "execution_count": 3,
   "metadata": {},
   "outputs": [
    {
     "name": "stdout",
     "output_type": "stream",
     "text": [
      "                                zone  meter_transactions  mobile_transactions\n",
      "_id                                                                          \n",
      "1                    421 - NorthSide                   0                  1.0\n",
      "2                       403 - Uptown                   0                  1.0\n",
      "3                 412 - East Liberty                   0                  1.0\n",
      "4                    421 - NorthSide                   0                  1.0\n",
      "5                   402 - Downtown 2                   0                  1.0\n",
      "6                405 - Lawrenceville                   0                  1.0\n",
      "7                 412 - East Liberty                   0                  1.0\n",
      "8                413 - Squirrel Hill                   0                  1.0\n",
      "9                     415 - SS & SSW                   0                  2.0\n",
      "10   335 - Friendship Cedarville Lot                   0                  5.0\n"
     ]
    }
   ],
   "source": [
    "\n",
    "import pandas as pd\n",
    "\n",
    "df = pd.read_csv(\"zones.csv\", index_col='_id')\n",
    "\n",
    "print(df[['zone', 'meter_transactions', 'mobile_transactions']].head(10))\n",
    "\n",
    "\n"
   ]
  },
  {
   "cell_type": "code",
   "execution_count": 5,
   "metadata": {},
   "outputs": [
    {
     "name": "stdout",
     "output_type": "stream",
     "text": [
      "            zone  meter_transactions  mobile_transactions\n",
      " 421 - NorthSide                   0                  1.0\n",
      "    403 - Uptown                   0                  1.0\n",
      " 421 - NorthSide                   0                  1.0\n",
      "402 - Downtown 2                   0                  1.0\n",
      "402 - Downtown 2                   0                  3.0\n",
      " 421 - NorthSide                   0                  1.0\n",
      "    403 - Uptown                   0                  1.0\n",
      " 421 - NorthSide                   0                  1.0\n",
      " 421 - NorthSide                   0                  1.0\n",
      "    403 - Uptown                   0                  1.0\n"
     ]
    }
   ],
   "source": [
    "import pandas as pd\n",
    "\n",
    "# Load your CSV file into a DataFrame\n",
    "df = pd.read_csv(\"zones.csv\", index_col='_id')\n",
    "\n",
    "# List of neighborhoods to filter by\n",
    "neighborhoods = [\"403 - Uptown\", \"402 - Downtown 2\", \"421 - NorthSide\"]\n",
    "\n",
    "# Filter the DataFrame for the selected neighborhoods\n",
    "filtered_df = df[df['zone'].isin(neighborhoods)]\n",
    "\n",
    "# Print the first 10 entries of the filtered DataFrame\n",
    "print(filtered_df[['zone', 'meter_transactions', 'mobile_transactions']].head(10).to_string(index=False))\n"
   ]
  },
  {
   "cell_type": "code",
   "execution_count": 7,
   "metadata": {},
   "outputs": [
    {
     "name": "stdout",
     "output_type": "stream",
     "text": [
      "              meter_transactions  mobile_transactions\n",
      "Neighborhood                                         \n",
      "East Liberty                   5                   24\n",
      "Northtown                     10                   18\n",
      "Uptown                         6                    7\n"
     ]
    }
   ],
   "source": [
    "import pandas as pd\n",
    "\n",
    "# Sample data creation\n",
    "data = {\n",
    "    'zone': ['403 - Lot 1', '402 - Lot 2', '401 - Lot 3', '403 - Lot 4', '402 - Lot 5'],\n",
    "    'meter_transactions': [5, 3, 6, 5, 2],\n",
    "    'mobile_transactions': [10, 15, 7, 8, 9]\n",
    "}\n",
    "\n",
    "# Create a DataFrame\n",
    "df = pd.DataFrame(data)\n",
    "\n",
    "# Define a mapping from 'zone' to 'neighborhood'\n",
    "zone_to_neighborhood = {\n",
    "    '403': 'Northtown',\n",
    "    '402': 'East Liberty',\n",
    "    '401': 'Uptown',\n",
    "    # Add more mappings as needed\n",
    "}\n",
    "\n",
    "# Map 'zone' to 'neighborhood' using the first three characters of the 'zone' column\n",
    "df['Neighborhood'] = df['zone'].str[:3].map(zone_to_neighborhood)\n",
    "\n",
    "# Group by 'neighborhood' and sum transactions\n",
    "neighborhood_grouped = df.groupby('Neighborhood').sum()\n",
    "\n",
    "# Display the grouped DataFrame\n",
    "print(neighborhood_grouped)\n",
    "\n"
   ]
  },
  {
   "cell_type": "markdown",
   "metadata": {},
   "source": [
    "we can conclude that by grouping transaction data by zone identifiers in the zone column, we can summarize the meter and mobile transactions for each neighborhood, providing a clearer picture of parking transaction patterns within different areas of a city. However, for a precise analysis, an accurate mapping of parking lots to their corresponding neighborhoods would be essential.\n",
    "\n",
    "\n",
    "\n",
    "\n",
    "\n",
    "\n"
   ]
  }
 ],
 "metadata": {
  "kernelspec": {
   "display_name": "Python 3",
   "language": "python",
   "name": "python3"
  },
  "language_info": {
   "codemirror_mode": {
    "name": "ipython",
    "version": 3
   },
   "file_extension": ".py",
   "mimetype": "text/x-python",
   "name": "python",
   "nbconvert_exporter": "python",
   "pygments_lexer": "ipython3",
   "version": "3.8.3"
  }
 },
 "nbformat": 4,
 "nbformat_minor": 4
}
